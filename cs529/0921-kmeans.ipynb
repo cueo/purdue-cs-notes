{
 "cells": [
  {
   "cell_type": "markdown",
   "metadata": {
    "pycharm": {
     "name": "#%% md\n"
    }
   },
   "source": [
    "# k-means clustering"
   ]
  },
  {
   "cell_type": "markdown",
   "metadata": {
    "pycharm": {
     "name": "#%% md\n"
    }
   },
   "source": [
    "## Unsupervised Learning\n",
    "* no labels\n",
    "* learn hidden structure\n",
    "\n",
    "## k-means\n",
    "### input\n",
    "* input features\n",
    "* cardinality $k$\n",
    "\n",
    "### limitation\n",
    "* user needs to specify the # of clusters, $k$ (hyperparameter (?))"
   ]
  },
  {
   "cell_type": "markdown",
   "metadata": {
    "pycharm": {
     "name": "#%% md\n"
    }
   },
   "source": [
    "### example\n",
    "$$ X = \\begin{bmatrix}\n",
    "1 & 1\\\\\n",
    "2 & 1\\\\\n",
    "4 & 3\\\\\n",
    "5 & 4\\\\\n",
    "\\end{bmatrix}$$\n",
    "\n",
    "$$k = 2$$\n",
    "\n",
    "1. initialise:\n",
    "$$c1 = (1, 1)\\\\\n",
    "c2 = (2, 1)$$\n",
    "\n",
    "2. $$\\begin{bmatrix}\n",
    "d_{11} & d_{12} & d_{13} & d_{14}\\\\\n",
    "d_{21} & d_{22} & d_{23} & d_{24}\\\\\n",
    "\\end{bmatrix}$$\n",
    "where $d_{ij}$ = distance of point $j$ with centroid $i$\n",
    "\n",
    "3. $$D = \\begin{bmatrix}\n",
    "1 & 0 & 0 & 0\\\\\n",
    "0 & 1 & 1 & 1\\\\\n",
    "\\end{bmatrix}$$\n",
    "where $D_{ij} = 1$ if point $j$ belongs to cluster $i$.\n",
    "\n",
    "4. Now:\n",
    "$$c1 = (X_{11}, X_{12}) = (1, 1)\\\\\n",
    "c2 = (\\dfrac{X_{21} + X_{31} + X_{41}}{3}, \\dfrac{X_{22} + X_{32} + X_{42}}{3}) = (\\dfrac{11}{3}, \\dfrac{8}{3})$$"
   ]
  },
  {
   "cell_type": "markdown",
   "source": [
    "## k-means++\n",
    "* smart initialization (take furthest points (?))"
   ],
   "metadata": {
    "collapsed": false,
    "pycharm": {
     "name": "#%% md\n"
    }
   }
  }
 ],
 "metadata": {
  "kernelspec": {
   "display_name": "Python 3 (ipykernel)",
   "language": "python",
   "name": "python3"
  },
  "language_info": {
   "codemirror_mode": {
    "name": "ipython",
    "version": 3
   },
   "file_extension": ".py",
   "mimetype": "text/x-python",
   "name": "python",
   "nbconvert_exporter": "python",
   "pygments_lexer": "ipython3",
   "version": "3.9.12"
  }
 },
 "nbformat": 4,
 "nbformat_minor": 1
}