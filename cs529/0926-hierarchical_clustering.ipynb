{
 "cells": [
  {
   "cell_type": "markdown",
   "metadata": {},
   "source": [
    "# Hierarchical Clustering"
   ]
  },
  {
   "cell_type": "markdown",
   "metadata": {},
   "source": [
    "## Pseudo code\n",
    "```\n",
    "hierarchical_clustering(coords) ->\n",
    "    while only single cluster remains:\n",
    "        find the two closest points\n",
    "        combine the two points into a single cluster\n",
    "        (update the dendrogram)\n",
    "```"
   ]
  },
  {
   "cell_type": "markdown",
   "metadata": {},
   "source": [
    "## Runtime\n",
    "`finding 2 closest points`: $O(n^2)$"
   ]
  },
  {
   "cell_type": "markdown",
   "metadata": {},
   "source": []
  }
 ],
 "metadata": {
  "kernelspec": {
   "display_name": "Python 3.10.0 64-bit ('3.10.0')",
   "language": "python",
   "name": "python3"
  },
  "language_info": {
   "name": "python",
   "version": "3.10.0"
  },
  "orig_nbformat": 4,
  "vscode": {
   "interpreter": {
    "hash": "3f6b94a31988d0f80d308b728f256a7cbd116fe9f8f17b9be835fe181620eddd"
   }
  }
 },
 "nbformat": 4,
 "nbformat_minor": 2
}
