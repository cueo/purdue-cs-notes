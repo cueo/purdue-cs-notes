{
 "cells": [
  {
   "attachments": {},
   "cell_type": "markdown",
   "metadata": {},
   "source": [
    "## Introduction\n",
    "\n",
    "### Administrative stuff\n",
    "* Website: https://www.cs.purdue.edu/homes/ayg/CS525/\n",
    "* Credentials (for videos etc): others / literati\n",
    "* Textbook: Intro to Parallel Computing by Grama et al."
   ]
  },
  {
   "attachments": {},
   "cell_type": "markdown",
   "metadata": {},
   "source": [
    "### Types of computing\n",
    "* Parallel\n",
    "* Concurrent\n",
    "* Distributed\n",
    "\n",
    "#### Parallel vs Distributed\n",
    "* Distributed\n",
    "  * nodes may go down (failures - arbitrary, byzantine, etc)\n",
    "  * dealing with faults, how to still progress\n",
    "  * eventual consistency (notion of progress is weak)\n",
    "\n",
    "* Concurrent\n",
    "  * specification not an execution (?)\n",
    "  * reduce latency\n",
    "  * correctness and verification\n",
    "  * some invariants are always satisfied - difficult to prove correctness\n",
    "    * cannot control scheduling\n",
    "    * memory aliasing, pointers points to what, race conditions\n",
    "\n",
    "* Parallel\n",
    "  * execution context\n",
    "  * about performance\n",
    "  * n times resources =? n times performance"
   ]
  },
  {
   "attachments": {},
   "cell_type": "markdown",
   "metadata": {},
   "source": [
    "### Why parallel?\n",
    "* obviously, performance\n",
    "* realtime\n",
    "* data can be distributed due to size or privacy\n",
    "* Moore's law works only though parallelism (2x transistors doesn't make ALU faster, 2x transistors translated to 2x ALU makes it faster - ?)\n",
    "* why we can't arbitrarily increase CPU clock or reduce the chip size"
   ]
  },
  {
   "attachments": {},
   "cell_type": "markdown",
   "metadata": {},
   "source": [
    "### Architectures\n",
    "\n",
    "* Once upon a time, computers:\n",
    "    Processor -- Memory -- Disk\n",
    "     (1 MHz)     (1 us)   (1 ms)\n",
    "* Processor: Fetch (1 us) -> Decode -> Execute\n",
    "  $$\\begin{aligned}\n",
    "  F_1 \\ D_1 \\ &E_1\\\\\n",
    "  F_2 \\ &D_2 \\ E_2\\\\\n",
    "  &F_3 \\ D_3 \\ E_3\n",
    "  \\end{aligned}$$\n",
    "1 MIPS -> 3 MIPS\n",
    "* Even faster? Break each step into smaller pieces. Say 20, then it becomes 20 MIPS.\n",
    "* Deeper pipelines are good\n",
    "* Speed of the pipeline is determined by the slowest step\n",
    "* Pipelines fail on conditional branches - how to handle?\n",
    "  1. Conservation - block\n",
    "  2. Predictor (history buffer) - do not execute"
   ]
  }
 ],
 "metadata": {
  "kernelspec": {
   "display_name": "Python 3.10.0 64-bit ('3.10.0')",
   "language": "python",
   "name": "python3"
  },
  "language_info": {
   "name": "python",
   "version": "3.10.0"
  },
  "orig_nbformat": 4,
  "vscode": {
   "interpreter": {
    "hash": "3f6b94a31988d0f80d308b728f256a7cbd116fe9f8f17b9be835fe181620eddd"
   }
  }
 },
 "nbformat": 4,
 "nbformat_minor": 2
}
