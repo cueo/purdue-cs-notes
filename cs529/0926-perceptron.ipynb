{
 "cells": [
  {
   "cell_type": "markdown",
   "metadata": {},
   "source": [
    "# Perceptron"
   ]
  },
  {
   "cell_type": "markdown",
   "metadata": {},
   "source": [
    "## Pseudo code\n",
    "```\n",
    "perceptron(X, y) ->\n",
    "    while not converged:\n",
    "        if sign(w_t.x) != y_t:\n",
    "            $$w_{t+1} = w_t + a y_t x_t$$\n",
    "```"
   ]
  },
  {
   "cell_type": "markdown",
   "metadata": {},
   "source": []
  }
 ],
 "metadata": {
  "kernelspec": {
   "display_name": "Python 3.10.0 64-bit ('3.10.0')",
   "language": "python",
   "name": "python3"
  },
  "language_info": {
   "name": "python",
   "version": "3.10.0"
  },
  "orig_nbformat": 4,
  "vscode": {
   "interpreter": {
    "hash": "3f6b94a31988d0f80d308b728f256a7cbd116fe9f8f17b9be835fe181620eddd"
   }
  }
 },
 "nbformat": 4,
 "nbformat_minor": 2
}
