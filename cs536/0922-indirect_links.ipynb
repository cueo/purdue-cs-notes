{
 "cells":[
  {
   "cell_type":"markdown",
   "source":[
    "# Indirect Links (Internetworking - L2\/L3)"
   ],
   "attachments":{
    
   },
   "metadata":{
    "datalore":{
     "node_id":"v5ni2rj3CjASw1reqtC33g",
     "type":"MD",
     "hide_input_from_viewers":false,
     "hide_output_from_viewers":false
    }
   }
  },
  {
   "cell_type":"markdown",
   "source":[
    "## Connecting different networks"
   ],
   "attachments":{
    
   },
   "metadata":{
    "datalore":{
     "node_id":"ZHCQwgeXwmn1czLVKvNv9f",
     "type":"MD",
     "hide_input_from_viewers":false,
     "hide_output_from_viewers":false
    }
   }
  },
  {
   "cell_type":"markdown",
   "source":[
    "\n",
    "### Repeater\n",
    "- Just amplifies the signal\n",
    "- Broadcasts from incoming to outgoing\n",
    "- Doesn't understand packet \/ frame"
   ],
   "attachments":{
    
   },
   "metadata":{
    "datalore":{
     "node_id":"4rkBC8lYmtzb3dvS309d1R",
     "type":"MD",
     "hide_input_from_viewers":false,
     "hide_output_from_viewers":false
    }
   }
  },
  {
   "cell_type":"markdown",
   "source":[
    "### Bridge\n",
    "- Narrow down the collision domain (?)\n",
    "- Does the same thing as repeater but on ethernet level\n",
    "- Stores (waits for incoming packets to become idle) before forwarding\n",
    "- Packet is broadcast to all hosts\n",
    "\n",
    "#### Learning Bridge\n",
    "- Drops packets with destination in the same segment\n",
    "- Still broadcasts to all hosts if destination is in the other segment\n",
    "- Maintains a table (keeps on learning as and when it receives a packet from some host)\n",
    "- In case of 2+ segments, all segments will receive the packets (except when it's in the segment as the source)"
   ],
   "attachments":{
    
   },
   "metadata":{
    "datalore":{
     "node_id":"7qi4Jsxzz6wkFlwM6PkWfI",
     "type":"MD",
     "hide_input_from_viewers":false,
     "hide_output_from_viewers":false
    }
   }
  },
  {
   "cell_type":"markdown",
   "source":[
    "### L2 Switch\n",
    "- Forwards to the correct destination\n",
    "- Maintains a table (keeps on learning as and when it receives a packet from some host)\n",
    "- Knows which segment to go to (in case of 2+ segments, only the destination segment receives the packet)\n",
    "  \n",
    "#### L2 Learning Switch\n",
    "- Learns automatically (how is it different from L2?)"
   ],
   "attachments":{
    
   },
   "metadata":{
    "datalore":{
     "node_id":"FREwea9wso1wjWLcYA7A7f",
     "type":"MD",
     "hide_input_from_viewers":false,
     "hide_output_from_viewers":false
    }
   }
  },
  {
   "cell_type":"markdown",
   "source":[
    "### L3 Switch aka Router\n",
    "- Connect networks across different layers\n",
    "    - Can connect both ethernet and wifi\n",
    "- Operates at IP layer\n",
    "- In case of ethernet, no need to go to IP\n",
    "- Isolates the broadcasting\n",
    "- Table populated by some protocol (eg: BGP) (not learnt)"
   ],
   "attachments":{
    
   },
   "metadata":{
    "datalore":{
     "node_id":"HnMO0pjHklcieoWdihonkh",
     "type":"MD",
     "hide_input_from_viewers":false,
     "hide_output_from_viewers":false
    }
   }
  },
  {
   "cell_type":"markdown",
   "source":[
    "## Characteristics\n",
    "\n",
    "- Broadcast could run into indefinite broadcasting (cycles)\n",
    "\n",
    "### Spanning Tree Protocol\n",
    "### Address Resolution Protocol\n",
    "- `FFFFFF`"
   ],
   "attachments":{
    
   },
   "metadata":{
    "datalore":{
     "node_id":"gBiula15cVszVkBA8ljLOP",
     "type":"MD",
     "hide_input_from_viewers":false,
     "hide_output_from_viewers":false
    }
   }
  }
 ],
 "metadata":{
  "kernelspec":{
   "display_name":"Python",
   "language":"python",
   "name":"python"
  },
  "datalore":{
   "version":1,
   "computation_mode":"REACTIVE",
   "package_manager":"pip",
   "base_environment":"default",
   "packages":[
    
   ]
  }
 },
 "nbformat":4,
 "nbformat_minor":4
}