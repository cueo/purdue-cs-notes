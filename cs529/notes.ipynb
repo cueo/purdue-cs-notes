{
 "cells": [
  {
   "cell_type": "markdown",
   "metadata": {},
   "source": [
    "## Attack Surface of ML\n",
    "### Taxonomy\n",
    "* Knowledge\n",
    "  * Black\n",
    "  * Gray\n",
    "  * White\n",
    "* Target\n",
    "  * Training\n",
    "  * Testing\n",
    "* Goals\n",
    "  * Confidence reduction\n",
    "  * Misclassification\n",
    "\n",
    "### Poisoning Attacks\n",
    "* Manipulate training dataset\n",
    "\n",
    "### Evasion Attacks\n",
    "* Manipulate input samples at test time to cause misclassification\n",
    "\n",
    "### Evasion Attacks\n",
    "* Discover the parameters of the model\n",
    "\n",
    "### Membership Inference\n",
    "* Infer if a data is part of training dataset or of the same distribution as training data\n",
    "\n",
    "### Security Goals\n",
    "\n",
    "| Goal                  | Attack               |\n",
    "|-----------------------|----------------------|\n",
    "| Data integrity        | Poisoning attack     |\n",
    "| Model integrity       | Evasion attack       |\n",
    "| Model confidentiality | Model extraction     |\n",
    "| Privacy               | Membership inference |"
   ]
  }
 ],
 "metadata": {
  "kernelspec": {
   "display_name": "Python 3.10.6 64-bit ('assignment3')",
   "language": "python",
   "name": "python3"
  },
  "language_info": {
   "name": "python",
   "version": "3.10.6"
  },
  "orig_nbformat": 4,
  "vscode": {
   "interpreter": {
    "hash": "1c9f439cdf62a9ebb07dc2af8d7bf220d77eb850c07d6f9df42203b0fbcb22d6"
   }
  }
 },
 "nbformat": 4,
 "nbformat_minor": 2
}
